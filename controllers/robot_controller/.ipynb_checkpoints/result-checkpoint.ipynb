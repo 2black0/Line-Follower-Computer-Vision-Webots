{
 "cells": [
  {
   "cell_type": "code",
   "execution_count": 1,
   "id": "c3e6b43c-676d-49d2-af51-a88068acaa2e",
   "metadata": {},
   "outputs": [
    {
     "ename": "ModuleNotFoundError",
     "evalue": "No module named 'matplotlib'",
     "output_type": "error",
     "traceback": [
      "\u001b[0;31m---------------------------------------------------------------------------\u001b[0m",
      "\u001b[0;31mModuleNotFoundError\u001b[0m                       Traceback (most recent call last)",
      "Cell \u001b[0;32mIn[1], line 2\u001b[0m\n\u001b[1;32m      1\u001b[0m \u001b[38;5;28;01mimport\u001b[39;00m \u001b[38;5;21;01mpandas\u001b[39;00m \u001b[38;5;28;01mas\u001b[39;00m \u001b[38;5;21;01mpd\u001b[39;00m\n\u001b[0;32m----> 2\u001b[0m \u001b[38;5;28;01mimport\u001b[39;00m \u001b[38;5;21;01mmatplotlib\u001b[39;00m\u001b[38;5;21;01m.\u001b[39;00m\u001b[38;5;21;01mpyplot\u001b[39;00m \u001b[38;5;28;01mas\u001b[39;00m \u001b[38;5;21;01mplt\u001b[39;00m\n\u001b[1;32m      4\u001b[0m \u001b[38;5;66;03m# Baca data dari file CSV\u001b[39;00m\n\u001b[1;32m      5\u001b[0m data \u001b[38;5;241m=\u001b[39m pd\u001b[38;5;241m.\u001b[39mread_csv(\u001b[38;5;124m'\u001b[39m\u001b[38;5;124mlog.csv\u001b[39m\u001b[38;5;124m'\u001b[39m)\n",
      "\u001b[0;31mModuleNotFoundError\u001b[0m: No module named 'matplotlib'"
     ]
    }
   ],
   "source": [
    "import pandas as pd\n",
    "import matplotlib.pyplot as plt"
   ]
  },
  {
   "cell_type": "code",
   "execution_count": null,
   "id": "163050e6-b2da-4f4e-8b03-78d0028206a9",
   "metadata": {},
   "outputs": [],
   "source": [
    "# Baca data dari file CSV\n",
    "data = pd.read_csv('log.csv')\n",
    "\n",
    "# Hitung error absolut\n",
    "data['AbsoluteError'] = data['Error'].abs()\n",
    "\n",
    "# Plot Error terhadap Time\n",
    "plt.figure(figsize=(10, 6))\n",
    "plt.plot(data['Time'], data['Error'], label='Error')\n",
    "plt.xlabel('Time (s)')\n",
    "plt.ylabel('Error')\n",
    "plt.title('Error vs Time')\n",
    "plt.legend()\n",
    "plt.grid()\n",
    "plt.show()\n",
    "\n",
    "# Analisis Transien Respon\n",
    "set_point = 160\n",
    "\n",
    "# Menemukan overshoot\n",
    "max_error = data['Error'].max()\n",
    "overshoot = ((max_error - set_point) / set_point) * 100\n",
    "\n",
    "# Menemukan settling time (waktu stabilisasi)\n",
    "threshold = 0.05 * set_point\n",
    "settling_time = data.loc[data['AbsoluteError'] <= threshold, 'Time'].min()\n",
    "\n",
    "# Menemukan rise time (waktu naik)\n",
    "rise_time = data.loc[data['Error'] >= set_point, 'Time'].min()\n",
    "\n",
    "# Menampilkan hasil analisis transien respon\n",
    "print(f'Overshoot: {overshoot}%')\n",
    "print(f'Settling Time: {settling_time} s')\n",
    "print(f'Rise Time: {rise_time} s')\n",
    "\n",
    "# Plot Kecepatan Kiri dan Kanan terhadap Time\n",
    "plt.figure(figsize=(10, 6))\n",
    "plt.plot(data['Time'], data['LeftSpeed'], label='Left Speed')\n",
    "plt.plot(data['Time'], data['RightSpeed'], label='Right Speed')\n",
    "plt.xlabel('Time (s)')\n",
    "plt.ylabel('Speed')\n",
    "plt.title('Left and Right Speed vs Time')\n",
    "plt.legend()\n",
    "plt.grid()\n",
    "plt.show()\n",
    "\n",
    "# Plot Sudut terhadap Time\n",
    "plt.figure(figsize=(10, 6))\n",
    "plt.plot(data['Time'], data['Angle'], label='Angle')\n",
    "plt.xlabel('Time (s)')\n",
    "plt.ylabel('Angle (degrees)')\n",
    "plt.title('Angle vs Time')\n",
    "plt.legend()\n",
    "plt.grid()\n",
    "plt.show()\n",
    "\n",
    "# Plot Delta Error dan Delta Speed terhadap Time\n",
    "plt.figure(figsize=(10, 6))\n",
    "plt.plot(data['Time'], data['DeltaError'], label='Delta Error')\n",
    "plt.plot(data['Time'], data['DeltaSpeed'], label='Delta Speed')\n",
    "plt.xlabel('Time (s)')\n",
    "plt.ylabel('Value')\n",
    "plt.title('Delta Error and Delta Speed vs Time')\n",
    "plt.legend()\n",
    "plt.grid()\n",
    "plt.show()\n",
    "\n",
    "# Analisis tambahan\n",
    "# Steady-State Error\n",
    "steady_state_error = data['Error'].iloc[-1]\n",
    "print(f'Steady-State Error: {steady_state_error}')\n",
    "\n",
    "# Control Effort Analysis\n",
    "control_effort_left = data['LeftSpeed'].sum()\n",
    "control_effort_right = data['RightSpeed'].sum()\n",
    "print(f'Control Effort (Left): {control_effort_left}')\n",
    "print(f'Control Effort (Right): {control_effort_right}')"
   ]
  }
 ],
 "metadata": {
  "kernelspec": {
   "display_name": "Python 3 (ipykernel)",
   "language": "python",
   "name": "python3"
  },
  "language_info": {
   "codemirror_mode": {
    "name": "ipython",
    "version": 3
   },
   "file_extension": ".py",
   "mimetype": "text/x-python",
   "name": "python",
   "nbconvert_exporter": "python",
   "pygments_lexer": "ipython3",
   "version": "3.12.1"
  }
 },
 "nbformat": 4,
 "nbformat_minor": 5
}
